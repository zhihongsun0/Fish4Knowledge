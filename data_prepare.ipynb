{
 "cells": [
  {
   "cell_type": "code",
   "execution_count": 2,
   "metadata": {},
   "outputs": [
    {
     "name": "stdout",
     "output_type": "stream",
     "text": [
      "Class:fish_05, train:2027, valid:253, test:254\n",
      "Class:fish_01, train:9689, valid:1211, test:1212\n",
      "Class:fish_02, train:2146, valid:268, test:269\n",
      "Class:fish_03, train:2874, valid:359, test:360\n",
      "Class:fish_04, train:3239, valid:405, test:405\n"
     ]
    }
   ],
   "source": [
    "import os\n",
    "import random\n",
    "import shutil\n",
    "\n",
    "\n",
    "def makedir(new_dir):\n",
    "    if not os.path.exists(new_dir):\n",
    "        os.makedirs(new_dir)\n",
    "\n",
    "\n",
    "if __name__ == '__main__':\n",
    "    # make sure it's random but repeatable\n",
    "    random.seed(1)\n",
    "    \n",
    "    # setting dataset path\n",
    "    dataset_dir = os.path.join(\"data\", \"img\")\n",
    "    split_dir = os.path.join(\"data\", \"split\")\n",
    "    train_dir = os.path.join(split_dir, \"train\")\n",
    "    valid_dir = os.path.join(split_dir, \"valid\")\n",
    "    test_dir = os.path.join(split_dir, \"test\")\n",
    "    \n",
    "    # split train/valid/test as 8:1:1\n",
    "    train_pct = 0.8 # \n",
    "    valid_pct = 0.1\n",
    "    test_pct = 0.1\n",
    "\n",
    "    # walk the dataset path\n",
    "    for root, dirs, files in os.walk(dataset_dir):\n",
    "        for sub_dir in dirs:\n",
    "            if \"fish\" in sub_dir:\n",
    "                imgs = os.listdir(os.path.join(root, sub_dir))\n",
    "                imgs = list(filter(lambda x: x.endswith('.png'), imgs))\n",
    "                random.shuffle(imgs)\n",
    "                img_count = len(imgs)\n",
    "\n",
    "                train_point = int(img_count * train_pct)\n",
    "                valid_point = int(img_count * (train_pct + valid_pct))\n",
    "\n",
    "                for i in range(img_count):\n",
    "                    if i < train_point:\n",
    "                        out_dir = os.path.join(train_dir, sub_dir)\n",
    "                    elif i < valid_point:\n",
    "                        out_dir = os.path.join(valid_dir, sub_dir)\n",
    "                    else:\n",
    "                        out_dir = os.path.join(test_dir, sub_dir)\n",
    "\n",
    "                    makedir(out_dir)\n",
    "\n",
    "                    target_path = os.path.join(out_dir, imgs[i])\n",
    "                    src_path = os.path.join(dataset_dir, sub_dir, imgs[i])\n",
    "\n",
    "                    shutil.copy(src_path, target_path)\n",
    "\n",
    "                print('Class:{}, train:{}, valid:{}, test:{}'.format(sub_dir, train_point, valid_point-train_point, img_count-valid_point))"
   ]
  },
  {
   "cell_type": "code",
   "execution_count": null,
   "metadata": {},
   "outputs": [],
   "source": []
  }
 ],
 "metadata": {
  "kernelspec": {
   "display_name": "Python 3",
   "language": "python",
   "name": "python3"
  },
  "language_info": {
   "codemirror_mode": {
    "name": "ipython",
    "version": 3
   },
   "file_extension": ".py",
   "mimetype": "text/x-python",
   "name": "python",
   "nbconvert_exporter": "python",
   "pygments_lexer": "ipython3",
   "version": "3.8.8"
  }
 },
 "nbformat": 4,
 "nbformat_minor": 4
}
